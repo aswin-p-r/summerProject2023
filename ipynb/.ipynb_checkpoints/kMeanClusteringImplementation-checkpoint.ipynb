{
 "cells": [
  {
   "cell_type": "markdown",
   "id": "dd99a466",
   "metadata": {},
   "source": [
    "# K-Mean implementaion"
   ]
  },
  {
   "cell_type": "code",
   "execution_count": 2,
   "id": "958f3cba",
   "metadata": {},
   "outputs": [],
   "source": [
    "#import third party libraries\n",
    "import pandas as pd"
   ]
  },
  {
   "cell_type": "code",
   "execution_count": 3,
   "id": "7ae4a9c8",
   "metadata": {},
   "outputs": [],
   "source": [
    "class kMean:\n",
    "    \"\"\"\n",
    "    KMEAN Clustering\n",
    "    \n",
    "    \"\"\"\n",
    "    \n",
    "    def __init__(self, k : int = 10) -> None:\n",
    "        \"\"\"\n",
    "        Parameters\n",
    "        ----------\n",
    "        k : int , default 10\n",
    "            the number of clusters to be formed\n",
    "            \n",
    "        \"\"\"\n",
    "        \n",
    "        self.k = k\n",
    "    \n",
    "    def fit(self,X : pd.DataFrame):\n",
    "        pass\n",
    "    \n",
    "    def initialiseCentroids(self):\n",
    "        \"\"\"\n",
    "        Random Initialise Centroids \n",
    "        \n",
    "        \"\"\"\n",
    "        pass\n",
    "    \n",
    "    def assignPointsToCluster(self):\n",
    "        \"\"\"\n",
    "        Clustering the datapoints based on the closeness to centroids\n",
    "    \n",
    "        \"\"\"\n",
    "        pass\n",
    "    \n",
    "    def updateCentroids(self):\n",
    "        \"\"\"\n",
    "        Update Centroids\n",
    "        \n",
    "        \"\"\"\n",
    "        pass\n",
    "    \n",
    "    def inertia(self):\n",
    "        \"\"\"\n",
    "        Inertia \n",
    "        \n",
    "        Sum of the distance of datapoints to the centroids of the respective cluster.\n",
    "        Inertia is a measure of error associated with the cluster\n",
    "        \n",
    "        \"\"\"\n",
    "        pass\n",
    "    \n",
    "    #_____________________Helper functions___________________\n",
    "    @staticmethod\n",
    "    def distance(point1, point2):\n",
    "        \"\"\"\n",
    "        Eucleadian Distance\n",
    "        \n",
    "        \"\"\"\n",
    "        pass\n",
    "    \n",
    "    @staticmethod\n",
    "    def findCentroid(cluster):\n",
    "        \"\"\"\n",
    "        Centroid of the Cluster\n",
    "        \n",
    "\n",
    "        \"\"\"\n",
    "        pass\n",
    "    \n",
    "        "
   ]
  },
  {
   "cell_type": "code",
   "execution_count": null,
   "id": "72c93a12",
   "metadata": {},
   "outputs": [],
   "source": []
  }
 ],
 "metadata": {
  "kernelspec": {
   "display_name": "Python 3 (ipykernel)",
   "language": "python",
   "name": "python3"
  },
  "language_info": {
   "codemirror_mode": {
    "name": "ipython",
    "version": 3
   },
   "file_extension": ".py",
   "mimetype": "text/x-python",
   "name": "python",
   "nbconvert_exporter": "python",
   "pygments_lexer": "ipython3",
   "version": "3.10.4"
  }
 },
 "nbformat": 4,
 "nbformat_minor": 5
}
